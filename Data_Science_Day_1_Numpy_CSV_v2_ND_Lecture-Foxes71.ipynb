{
 "cells": [
  {
   "cell_type": "markdown",
   "metadata": {},
   "source": [
    "# Data Science Numpy & CSV's"
   ]
  },
  {
   "cell_type": "markdown",
   "metadata": {},
   "source": [
    "## Tasks Today:\n",
    "\n",
    "1) <b>Numpy</b> <br>\n",
    " &nbsp;&nbsp;&nbsp;&nbsp; a) Python List Comparison <br>\n",
    " &nbsp;&nbsp;&nbsp;&nbsp; b) In-Class Exercise #1 <br>\n",
    " &nbsp;&nbsp;&nbsp;&nbsp; c) Importing <br>\n",
    " &nbsp;&nbsp;&nbsp;&nbsp; d) Creating an NDArray <br>\n",
    " &nbsp;&nbsp;&nbsp;&nbsp;&nbsp;&nbsp;&nbsp;&nbsp; - np.array() <br>\n",
    " &nbsp;&nbsp;&nbsp;&nbsp;&nbsp;&nbsp;&nbsp;&nbsp; - np.zeros() <br>\n",
    " &nbsp;&nbsp;&nbsp;&nbsp;&nbsp;&nbsp;&nbsp;&nbsp; - np.ones() <br>\n",
    " &nbsp;&nbsp;&nbsp;&nbsp;&nbsp;&nbsp;&nbsp;&nbsp; - np.arange() <br>\n",
    " &nbsp;&nbsp;&nbsp;&nbsp;&nbsp;&nbsp;&nbsp;&nbsp; - Making Lists into NDArrays <br>\n",
    " &nbsp;&nbsp;&nbsp;&nbsp; e) Performing Calculations on NDArrays <br>\n",
    " &nbsp;&nbsp;&nbsp;&nbsp;&nbsp;&nbsp;&nbsp;&nbsp; - Summation <br>\n",
    " &nbsp;&nbsp;&nbsp;&nbsp;&nbsp;&nbsp;&nbsp;&nbsp; - Difference <br>\n",
    " &nbsp;&nbsp;&nbsp;&nbsp;&nbsp;&nbsp;&nbsp;&nbsp; - Multiplication <br>\n",
    " &nbsp;&nbsp;&nbsp;&nbsp;&nbsp;&nbsp;&nbsp;&nbsp; - Division <br>\n",
    " &nbsp;&nbsp;&nbsp;&nbsp; f) Numpy Subsetting <br>\n",
    " &nbsp;&nbsp;&nbsp;&nbsp; g) Multi-dimensional Arrays <br>\n",
    " &nbsp;&nbsp;&nbsp;&nbsp; h) Indexing NDArrays <br>\n",
    " &nbsp;&nbsp;&nbsp;&nbsp; i) Checking NDArray Type <br>\n",
    " &nbsp;&nbsp;&nbsp;&nbsp; j) Altering NDArray Type <br>\n",
    " &nbsp;&nbsp;&nbsp;&nbsp; k) Checking the Shape <br>\n",
    " &nbsp;&nbsp;&nbsp;&nbsp; l) Altering the Shape <br>\n",
    " &nbsp;&nbsp;&nbsp;&nbsp; m) In-Class Exercise #2 <br>\n",
    " &nbsp;&nbsp;&nbsp;&nbsp; n) Complex Indexing & Assigning <br>\n",
    " &nbsp;&nbsp;&nbsp;&nbsp; o) Elementwise Multplication <br>\n",
    " &nbsp;&nbsp;&nbsp;&nbsp; p) np.where() <br>\n",
    " &nbsp;&nbsp;&nbsp;&nbsp; q) Random Sampling <br>\n",
    "\n",
    "2) <b>Working With CSV's</b> <br>\n",
    " &nbsp;&nbsp;&nbsp;&nbsp; a) Imports <br>\n",
    " &nbsp;&nbsp;&nbsp;&nbsp; b) Reading a CSV <br>\n",
    " &nbsp;&nbsp;&nbsp;&nbsp; c) Loading a CSV's Data <br>\n",
    " &nbsp;&nbsp;&nbsp;&nbsp; d) Checking Number of Records <br>\n",
    " \n",
    "3) <b>Exercises</b> <br>\n",
    " &nbsp;&nbsp;&nbsp;&nbsp; a) #1 - Calculate BMI with NDArrays <br>\n",
    " &nbsp;&nbsp;&nbsp;&nbsp; b) #2 - Find the Average Sum of Marathon Runners <br>\n",
    " &nbsp;&nbsp;&nbsp;&nbsp; c) #3 - Random Matrix Function <br>\n",
    " &nbsp;&nbsp;&nbsp;&nbsp; d) #4 - Comparing Boston Red Sox Hitting Numbers <br>"
   ]
  },
  {
   "cell_type": "markdown",
   "metadata": {},
   "source": [
    "## Numpy <br>\n",
    "\n",
    "<p>NumPy is a library for the Python programming language, adding support for large, multi-dimensional arrays and matrices, along with a large collection of high-level mathematical functions to operate on these arrays.</p>\n",
    "<ul>\n",
    "    <li>Shape = Rows & Columns</li>\n",
    "    <li>Matrix = Entire Array</li>\n",
    "    <li>Vector = Variables to be applied (same vector as the one used in physics)</li>\n",
    "    <li>Array = Similar to lists</li>\n",
    "</ul>"
   ]
  },
  {
   "cell_type": "markdown",
   "metadata": {},
   "source": [
    "#### Python List Comparison"
   ]
  },
  {
   "cell_type": "markdown",
   "metadata": {},
   "source": [
    "<p>Lists are flexible, dynamic python objects that do their job quite well. But they do not support some mathematical operations in an intuitive way. Consider the summation of two lists, $l_1$ and $l_2$</p>"
   ]
  },
  {
   "cell_type": "code",
   "execution_count": 2,
   "metadata": {},
   "outputs": [
    {
     "ename": "TypeError",
     "evalue": "unsupported operand type(s) for -: 'list' and 'list'",
     "output_type": "error",
     "traceback": [
      "\u001b[1;31m---------------------------------------------------------------------------\u001b[0m",
      "\u001b[1;31mTypeError\u001b[0m                                 Traceback (most recent call last)",
      "\u001b[1;32m<ipython-input-2-f1a1924c5a43>\u001b[0m in \u001b[0;36m<module>\u001b[1;34m\u001b[0m\n\u001b[0;32m      4\u001b[0m \u001b[1;33m\u001b[0m\u001b[0m\n\u001b[0;32m      5\u001b[0m \u001b[0ml_1\u001b[0m \u001b[1;33m+\u001b[0m \u001b[0ml_2\u001b[0m\u001b[1;33m\u001b[0m\u001b[1;33m\u001b[0m\u001b[0m\n\u001b[1;32m----> 6\u001b[1;33m \u001b[0ml_1\u001b[0m \u001b[1;33m-\u001b[0m \u001b[0ml_2\u001b[0m\u001b[1;33m\u001b[0m\u001b[1;33m\u001b[0m\u001b[0m\n\u001b[0m",
      "\u001b[1;31mTypeError\u001b[0m: unsupported operand type(s) for -: 'list' and 'list'"
     ]
    }
   ],
   "source": [
    "# create two lists and sum both of them together (results may not be what you expect)\n",
    "l_1 = [1,2,3]\n",
    "l_2 = [4,5,6]\n",
    "\n",
    "l_1 + l_2\n",
    "l_1 - l_2\n",
    "\n",
    "# what if we want l_1 + l_2 = [5, 7, 9]"
   ]
  },
  {
   "cell_type": "markdown",
   "metadata": {},
   "source": [
    "<p>If we wanted to sum lists elementwise, we could write our own function that does the job entirely within the framework of python</p>"
   ]
  },
  {
   "cell_type": "markdown",
   "metadata": {},
   "source": [
    "#### In-Class Exercise #1 - Write a function that sums the indexes of two lists <br>\n",
    "<p>Ex: [2, 3, 4] + [1, 5, 2] = [3, 8, 6]</p>"
   ]
  },
  {
   "cell_type": "code",
   "execution_count": 3,
   "metadata": {},
   "outputs": [
    {
     "data": {
      "text/plain": [
       "[5, 7, 9]"
      ]
     },
     "execution_count": 3,
     "metadata": {},
     "output_type": "execute_result"
    }
   ],
   "source": [
    "# input: two lists\n",
    "# output: one list where indexes are the sum of the same numbered indexes of the input lists\n",
    "\n",
    "def sumlists(l1, l2):\n",
    "    ans = []\n",
    "    for i in range(len(l1)):\n",
    "        ans.append(l1[i] + l2[i])\n",
    "    return ans\n",
    "\n",
    "sumlists(l_1, l_2)"
   ]
  },
  {
   "cell_type": "markdown",
   "metadata": {},
   "source": [
    "#### Importing"
   ]
  },
  {
   "cell_type": "code",
   "execution_count": 4,
   "metadata": {},
   "outputs": [
    {
     "name": "stdout",
     "output_type": "stream",
     "text": [
      "Requirement already satisfied: numpy in c:\\programdata\\anaconda3\\lib\\site-packages (1.20.1)\n"
     ]
    }
   ],
   "source": [
    "# always import as np, standard across all of data science\n",
    "!pip install numpy\n",
    "import numpy as np"
   ]
  },
  {
   "cell_type": "markdown",
   "metadata": {},
   "source": [
    "#### Creating an NDArray <br>\n",
    "<p>NumPy is based around a class called the $\\textit{NDArray}$, which is a flexible vector / matrix class that implements the intuitive matrix and vector arithmatic lacking in basic Python. Let's start by creating some NDArrays:</p>"
   ]
  },
  {
   "cell_type": "markdown",
   "metadata": {},
   "source": [
    "###### - np.array()"
   ]
  },
  {
   "cell_type": "code",
   "execution_count": 15,
   "metadata": {},
   "outputs": [
    {
     "name": "stdout",
     "output_type": "stream",
     "text": [
      "[2 4 6] <class 'numpy.ndarray'>\n",
      "[ 1  7 11] <class 'numpy.ndarray'>\n",
      "['fox' 'turtle' 'lion'] <class 'numpy.ndarray'>\n"
     ]
    }
   ],
   "source": [
    "arr1 = np.array([2, 4, 6])\n",
    "arr2 = np.array([1, 7, 11])\n",
    "strarr = np.array(['fox', 'turtle', 'lion'])\n",
    "print(arr1, type(arr1))\n",
    "print(arr2, type(arr2))\n",
    "print(strarr, type(strarr))\n"
   ]
  },
  {
   "cell_type": "markdown",
   "metadata": {},
   "source": [
    "###### - np.zeros()"
   ]
  },
  {
   "cell_type": "code",
   "execution_count": 11,
   "metadata": {},
   "outputs": [
    {
     "name": "stdout",
     "output_type": "stream",
     "text": [
      "[[0. 0.]\n",
      " [0. 0.]\n",
      " [0. 0.]] <class 'numpy.ndarray'>\n"
     ]
    },
    {
     "data": {
      "text/plain": [
       "0.0"
      ]
     },
     "execution_count": 11,
     "metadata": {},
     "output_type": "execute_result"
    }
   ],
   "source": [
    "## Shape -- np.zeros() has a parameter of \"shape\" that must be given\n",
    "arr0 = np.zeros((3, 2))\n",
    "print(arr0, type(arr0))\n",
    "arr0[2][1]"
   ]
  },
  {
   "cell_type": "markdown",
   "metadata": {},
   "source": [
    "###### - np.ones()"
   ]
  },
  {
   "cell_type": "code",
   "execution_count": 17,
   "metadata": {},
   "outputs": [
    {
     "name": "stdout",
     "output_type": "stream",
     "text": [
      "[[1 1]\n",
      " [1 1]\n",
      " [1 1]]\n"
     ]
    }
   ],
   "source": [
    "arr_ones = np.ones((3,2), int)\n",
    "print(arr_ones)\n",
    "\n",
    "\n",
    "# notice no dots after the numbers, because we specified the datatype to be integer"
   ]
  },
  {
   "cell_type": "markdown",
   "metadata": {},
   "source": [
    "###### - np.arange()"
   ]
  },
  {
   "cell_type": "code",
   "execution_count": 19,
   "metadata": {},
   "outputs": [
    {
     "data": {
      "text/plain": [
       "array([ 1,  3,  5,  7,  9, 11, 13, 15, 17, 19, 21, 23, 25, 27, 29, 31, 33,\n",
       "       35, 37, 39, 41, 43, 45, 47, 49, 51, 53, 55, 57, 59, 61, 63, 65, 67,\n",
       "       69, 71, 73, 75, 77, 79, 81, 83, 85, 87, 89, 91, 93, 95, 97, 99])"
      ]
     },
     "execution_count": 19,
     "metadata": {},
     "output_type": "execute_result"
    }
   ],
   "source": [
    "# same as python range function\n",
    "# NDArray of odd numbers between 1 and 100\n",
    "arr1100 = np.arange(1, 101, 2)\n",
    "arr1100"
   ]
  },
  {
   "cell_type": "markdown",
   "metadata": {},
   "source": [
    "###### - Making Lists into NDArrays"
   ]
  },
  {
   "cell_type": "code",
   "execution_count": 21,
   "metadata": {},
   "outputs": [
    {
     "data": {
      "text/plain": [
       "array(['fennec fox', 'orca', 'tibetan fox', 'alpaca'], dtype='<U11')"
      ]
     },
     "execution_count": 21,
     "metadata": {},
     "output_type": "execute_result"
    }
   ],
   "source": [
    "animals = ['fennec fox', 'orca', 'tibetan fox', 'alpaca']\n",
    "NDanimals = np.array(animals)\n",
    "NDanimals"
   ]
  },
  {
   "cell_type": "markdown",
   "metadata": {},
   "source": [
    "#### Performing Calculations on NDArrays"
   ]
  },
  {
   "cell_type": "markdown",
   "metadata": {},
   "source": [
    "###### - Summation"
   ]
  },
  {
   "cell_type": "code",
   "execution_count": 23,
   "metadata": {
    "scrolled": true
   },
   "outputs": [
    {
     "name": "stdout",
     "output_type": "stream",
     "text": [
      "[2 4 6] [ 1  7 11]\n"
     ]
    },
    {
     "data": {
      "text/plain": [
       "array([ 3, 11, 17])"
      ]
     },
     "execution_count": 23,
     "metadata": {},
     "output_type": "execute_result"
    }
   ],
   "source": [
    "print(arr1, arr2)\n",
    "arr1 + arr2"
   ]
  },
  {
   "cell_type": "markdown",
   "metadata": {},
   "source": [
    "###### - Difference"
   ]
  },
  {
   "cell_type": "code",
   "execution_count": 24,
   "metadata": {},
   "outputs": [
    {
     "name": "stdout",
     "output_type": "stream",
     "text": [
      "[2 4 6] [ 1  7 11]\n"
     ]
    },
    {
     "data": {
      "text/plain": [
       "array([ 1, -3, -5])"
      ]
     },
     "execution_count": 24,
     "metadata": {},
     "output_type": "execute_result"
    }
   ],
   "source": [
    "print(arr1, arr2)\n",
    "arr1-arr2"
   ]
  },
  {
   "cell_type": "markdown",
   "metadata": {},
   "source": [
    "###### - Multiplication"
   ]
  },
  {
   "cell_type": "code",
   "execution_count": 25,
   "metadata": {},
   "outputs": [
    {
     "name": "stdout",
     "output_type": "stream",
     "text": [
      "[2 4 6] [ 1  7 11]\n"
     ]
    },
    {
     "data": {
      "text/plain": [
       "array([ 2, 28, 66])"
      ]
     },
     "execution_count": 25,
     "metadata": {},
     "output_type": "execute_result"
    }
   ],
   "source": [
    "print(arr1, arr2)\n",
    "arr1*arr2"
   ]
  },
  {
   "cell_type": "markdown",
   "metadata": {},
   "source": [
    "###### - Division"
   ]
  },
  {
   "cell_type": "code",
   "execution_count": 26,
   "metadata": {},
   "outputs": [
    {
     "name": "stdout",
     "output_type": "stream",
     "text": [
      "[2 4 6] [ 1  7 11]\n"
     ]
    },
    {
     "data": {
      "text/plain": [
       "array([2.        , 0.57142857, 0.54545455])"
      ]
     },
     "execution_count": 26,
     "metadata": {},
     "output_type": "execute_result"
    }
   ],
   "source": [
    "print(arr1, arr2)\n",
    "arr1/arr2"
   ]
  },
  {
   "cell_type": "markdown",
   "metadata": {},
   "source": [
    "#### Modulo"
   ]
  },
  {
   "cell_type": "code",
   "execution_count": 30,
   "metadata": {},
   "outputs": [
    {
     "name": "stdout",
     "output_type": "stream",
     "text": [
      "[2 4 6] [ 1  7 11]\n"
     ]
    }
   ],
   "source": [
    "print(arr1, arr2)\n",
    "result_mod = arr1%arr2"
   ]
  },
  {
   "cell_type": "markdown",
   "metadata": {},
   "source": [
    "#### Floor Division"
   ]
  },
  {
   "cell_type": "code",
   "execution_count": 28,
   "metadata": {},
   "outputs": [
    {
     "name": "stdout",
     "output_type": "stream",
     "text": [
      "[2 4 6] [ 1  7 11]\n"
     ]
    },
    {
     "data": {
      "text/plain": [
       "array([2, 0, 0], dtype=int32)"
      ]
     },
     "execution_count": 28,
     "metadata": {},
     "output_type": "execute_result"
    }
   ],
   "source": [
    "print(arr1, arr2)\n",
    "arr1//arr2"
   ]
  },
  {
   "cell_type": "markdown",
   "metadata": {},
   "source": [
    "#### Numpy Subsetting"
   ]
  },
  {
   "cell_type": "code",
   "execution_count": 48,
   "metadata": {},
   "outputs": [
    {
     "name": "stdout",
     "output_type": "stream",
     "text": [
      "original arr:  [ 3  4  5  6  7  8  9 10 11 12 13 14 15 16 17 18 19 20 21 22 23 24 25 26\n",
      " 27 28 29 30 31 32 33 34 35 36 37 38 39 40 41 42 43 44 45 46 47] \n",
      "\n",
      "boolean check returning true/false [False  True False  True False  True False  True False  True False  True\n",
      " False  True False  True False  True False  True False  True False  True\n",
      " False  True False  True False  True False  True False  True False  True\n",
      " False  True False  True False  True False  True False] \n",
      "\n",
      "actually return a subset that meets a condition:\n",
      "[ 4  6  8 10 12 14 16 18 20 22 24 26 28 30 32 34 36 38 40 42 44 46]\n",
      "[ 3  4  5  6  7  8  9 10 11 12 13 14 15 16 17 18 19 20 21 22 23 24 25 26\n",
      " 27 28 29 30 31 32 33 34 35 36 37 38 39 40 41 42 43 44 45 46 47]\n"
     ]
    }
   ],
   "source": [
    "\n",
    "# where is arr1 evenly divisible by arr2?\n",
    "# answer:\n",
    "result = np.arange(3, 48)\n",
    "print('original arr: ', result, '\\n')\n",
    "print('boolean check returning true/false', result%2 == 0, '\\n') # new NDarray containing true/false for each index in the original\n",
    "\n",
    "# needs a fix - designed to check the first letter of each name, is actually only checking the first name\n",
    "#test_ndStrings = np.array(['Bob','Mark','Angelica','Barb'])\n",
    "#print(test_ndStrings[test_ndStrings[0] == ''])\n",
    "\n",
    "# conditioal check, returns true or false\n",
    "# print(arr1 < 2)\n",
    "# print(arr2 >= 2)\n",
    "\n",
    "# conditional check, that returns the elements that meet the given condition\n",
    "print('actually return a subset that meets a condition:')\n",
    "print(result[result%2 == 0]) # filtering our original NDarray by the condition\n",
    "\n",
    "print(result) # subsetting is an out of place algorithm - original 'result' is not modified"
   ]
  },
  {
   "cell_type": "markdown",
   "metadata": {},
   "source": [
    "#### Multi-dimensional Arrays <br>\n",
    "<p>NumPy seamlessly supports multidimensional arrays and matrices of arbitrary dimension without nesting NDArrays. NDArrays themselves are flexible and extensible and may be defined with such dimensions, with a rich API of common functions to facilitate their use. Let's start by building a two dimensional 3x3 matrix by conversion from a nested group of core python lists $M = [l_0, l_1, l_2]$:</p>"
   ]
  },
  {
   "cell_type": "code",
   "execution_count": 49,
   "metadata": {},
   "outputs": [
    {
     "data": {
      "text/plain": [
       "array([[0, 1, 2],\n",
       "       [3, 4, 5],\n",
       "       [6, 7, 8]])"
      ]
     },
     "execution_count": 49,
     "metadata": {},
     "output_type": "execute_result"
    }
   ],
   "source": [
    "aList = [0,1,2]\n",
    "bList = [3,4,5]\n",
    "cList = [6,7,8]\n",
    "\n",
    "# first step: convert lists into a Matrix\n",
    "M = [aList, bList, cList]\n",
    "\n",
    "\n",
    "# second step: place Matrix inside NDArray\n",
    "ND_M = np.array(M)\n",
    "ND_M"
   ]
  },
  {
   "cell_type": "markdown",
   "metadata": {},
   "source": [
    "#### Indexing NDArrays <br>\n",
    "<p> Similar to lists within lists; however, the syntax looks more like C programming language.... It is [1, 2] to access the second row, third element.</p>"
   ]
  },
  {
   "cell_type": "code",
   "execution_count": 53,
   "metadata": {},
   "outputs": [
    {
     "name": "stdout",
     "output_type": "stream",
     "text": [
      "0\n",
      "4\n"
     ]
    }
   ],
   "source": [
    "# row,column\n",
    "print(ND_M[0, 0])\n",
    "\n",
    "# or the normal double bracket notation\n",
    "print(ND_M[1][1])"
   ]
  },
  {
   "cell_type": "markdown",
   "metadata": {},
   "source": [
    "#### Assigning Values in NDArrays"
   ]
  },
  {
   "cell_type": "code",
   "execution_count": 59,
   "metadata": {},
   "outputs": [
    {
     "name": "stdout",
     "output_type": "stream",
     "text": [
      "[[4 1 2]\n",
      " [3 4 5]\n",
      " [6 7 8]]\n",
      "int32\n"
     ]
    }
   ],
   "source": [
    "ND_M[0, 0] = 4.254651\n",
    "print(ND_M)\n",
    "print(ND_M.dtype) # if we try to add a float to an int32 array, we'll just get the int32 conversion of the float"
   ]
  },
  {
   "cell_type": "markdown",
   "metadata": {},
   "source": [
    "<p>Notice above how we ended up with a 1 in the target element's place. This is a data type issue. The .dtype() method is supported by all NDArrays, as well as the .astype() method for casting between data types:</p>"
   ]
  },
  {
   "cell_type": "markdown",
   "metadata": {},
   "source": [
    "#### Checking NDArray Type"
   ]
  },
  {
   "cell_type": "code",
   "execution_count": 60,
   "metadata": {},
   "outputs": [
    {
     "data": {
      "text/plain": [
       "dtype('int32')"
      ]
     },
     "execution_count": 60,
     "metadata": {},
     "output_type": "execute_result"
    }
   ],
   "source": [
    "# usind the .dtype attribute\n",
    "ND_M.dtype\n"
   ]
  },
  {
   "cell_type": "markdown",
   "metadata": {},
   "source": [
    "#### Altering NDArray Type"
   ]
  },
  {
   "cell_type": "code",
   "execution_count": 61,
   "metadata": {},
   "outputs": [
    {
     "data": {
      "text/plain": [
       "array([[4., 1., 2.],\n",
       "       [3., 4., 5.],\n",
       "       [6., 7., 8.]], dtype=float32)"
      ]
     },
     "execution_count": 61,
     "metadata": {},
     "output_type": "execute_result"
    }
   ],
   "source": [
    "# convert ND_M from int32 to float32\n",
    "# out of place\n",
    "float_ND_M = ND_M.astype(np.float32)\n",
    "float_ND_M"
   ]
  },
  {
   "cell_type": "code",
   "execution_count": 63,
   "metadata": {},
   "outputs": [
    {
     "data": {
      "text/plain": [
       "(3, 3)"
      ]
     },
     "execution_count": 63,
     "metadata": {},
     "output_type": "execute_result"
    }
   ],
   "source": [
    "# Checking the Shape of the ND_M Numpy Array\n",
    "# Using the attribute .shape\n",
    "ND_M.shape\n",
    "# tuple: (rows, columns)"
   ]
  },
  {
   "cell_type": "markdown",
   "metadata": {},
   "source": [
    "#### Checking the Shape <br>\n",
    "<p>The behavior and properties of an NDArray are often sensitively dependent on the $\\textit{shape}$ of the NDArray itself. The shape of an array can be found by calling the .shape method, which will return a tuple containing the array's dimensions:</p>"
   ]
  },
  {
   "cell_type": "code",
   "execution_count": 64,
   "metadata": {},
   "outputs": [
    {
     "name": "stdout",
     "output_type": "stream",
     "text": [
      "<class 'tuple'>\n"
     ]
    }
   ],
   "source": [
    " # shape is always rows x columns\n",
    "# Checking the Shape of the ND_M Numpy Array\n",
    "# Using the method .shape\n",
    "shapereturn = ND_M.shape\n",
    "print(type(shapereturn))"
   ]
  },
  {
   "cell_type": "markdown",
   "metadata": {},
   "source": [
    "#### Altering the Shape <br>\n",
    "<p>As long as the number of elements remains fixed, we can reshape NDArrays at will:</p>"
   ]
  },
  {
   "cell_type": "code",
   "execution_count": 70,
   "metadata": {},
   "outputs": [
    {
     "name": "stdout",
     "output_type": "stream",
     "text": [
      "[[4 1 2]\n",
      " [3 4 5]\n",
      " [6 7 8]] \n",
      "\n",
      "[[4 1 2 3 4 5 6 7 8]] \n",
      "\n",
      "[[4]\n",
      " [1]\n",
      " [2]\n",
      " [3]\n",
      " [4]\n",
      " [5]\n",
      " [6]\n",
      " [7]\n",
      " [8]] \n",
      "\n"
     ]
    }
   ],
   "source": [
    "# Change the shape of the numpy array\n",
    "# Using the method .reshape()\n",
    "\n",
    "# The reshape should be a multiple of the original shape\n",
    "# Meaning we can have a shape of (1,9) or (9,1) or (3,3)\n",
    "\n",
    "# (9,1) == 9 rows , 1 column\n",
    "# (1,9) == 1 column, 9 rows\n",
    "\n",
    "print(ND_M, '\\n')\n",
    "print(ND_M.reshape(1,9), '\\n')\n",
    "print(ND_M.reshape(9,1), '\\n')"
   ]
  },
  {
   "cell_type": "code",
   "execution_count": 72,
   "metadata": {},
   "outputs": [
    {
     "name": "stdout",
     "output_type": "stream",
     "text": [
      "5\n",
      "5\n"
     ]
    }
   ],
   "source": [
    "# keep in mind that the shape numbers do matter, (9, 1) is different than (1, 9)\n",
    "x19 = ND_M.reshape(1,9)\n",
    "x91 = ND_M.reshape(9,1)\n",
    "\n",
    "print(x19[0,5])\n",
    "print(x91[5,0])"
   ]
  },
  {
   "cell_type": "markdown",
   "metadata": {},
   "source": [
    "#### In-Class Exercise #2 - Create a matrix of range 0 up to 16 and reshape it into a 4x4 matrice"
   ]
  },
  {
   "cell_type": "code",
   "execution_count": 75,
   "metadata": {},
   "outputs": [
    {
     "data": {
      "text/plain": [
       "array([[ 0,  1,  2,  3],\n",
       "       [ 4,  5,  6,  7],\n",
       "       [ 8,  9, 10, 11],\n",
       "       [12, 13, 14, 15]])"
      ]
     },
     "execution_count": 75,
     "metadata": {},
     "output_type": "execute_result"
    }
   ],
   "source": [
    "\"\"\"\n",
    "OUTPUT\n",
    "    array([[ 0,  1,  2,  3],\n",
    "       [ 4,  5,  6,  7],\n",
    "       [ 8,  9, 10, 11],\n",
    "       [12, 13, 14, 15]])\n",
    "\"\"\"\n",
    "# python range, np.array(), np.reshape()\n",
    "fourxfour = np.array(range(0,16)).reshape(4,4)\n",
    "fourxfour\n",
    "# np.arange(), np.reshape()\n",
    "fourx4 = np.arange(0,16).reshape(4,4)\n",
    "fourx4\n"
   ]
  },
  {
   "cell_type": "markdown",
   "metadata": {},
   "source": [
    "#### Complex Indexing & Assinging"
   ]
  },
  {
   "cell_type": "code",
   "execution_count": 90,
   "metadata": {},
   "outputs": [
    {
     "name": "stdout",
     "output_type": "stream",
     "text": [
      "Setting up matrix:\n",
      "Before assignment: all zeros:\n",
      "[[0. 0. 0. 0. 0. 0.]\n",
      " [0. 0. 0. 0. 0. 0.]\n",
      " [0. 0. 0. 0. 0. 0.]\n",
      " [0. 0. 0. 0. 0. 0.]\n",
      " [0. 0. 0. 0. 0. 0.]\n",
      " [0. 0. 0. 0. 0. 0.]]\n",
      "\n",
      "\n",
      "After assignment of 1 to first column:\n",
      "[[1. 0. 0. 0. 0. 0.]\n",
      " [1. 0. 0. 0. 0. 0.]\n",
      " [1. 0. 0. 0. 0. 0.]\n",
      " [1. 0. 0. 0. 0. 0.]\n",
      " [1. 0. 0. 0. 0. 0.]\n",
      " [1. 0. 0. 0. 0. 0.]]\n",
      "\n",
      "\n",
      "After assigning 5 to rows 3-5 not including 5:\n",
      "[[1. 0. 0. 0. 0. 0.]\n",
      " [1. 0. 0. 0. 0. 0.]\n",
      " [1. 0. 0. 0. 0. 0.]\n",
      " [5. 5. 5. 5. 5. 5.]\n",
      " [5. 5. 5. 5. 5. 5.]\n",
      " [1. 0. 0. 0. 0. 0.]]\n",
      "\n",
      "\n",
      "After assigning 2 to rows 3-5 not including 5 or first/last columns:\n",
      "[[1. 0. 0. 0. 0. 0.]\n",
      " [1. 0. 0. 0. 0. 0.]\n",
      " [1. 0. 0. 0. 0. 0.]\n",
      " [5. 2. 2. 2. 2. 5.]\n",
      " [5. 2. 2. 2. 2. 5.]\n",
      " [1. 0. 0. 0. 0. 0.]]\n",
      "\n",
      "\n",
      "After reset:\n",
      "[[0. 0. 0. 0. 0. 0.]\n",
      " [0. 0. 0. 0. 0. 0.]\n",
      " [0. 0. 0. 0. 0. 0.]\n",
      " [0. 0. 0. 0. 0. 0.]\n",
      " [0. 0. 0. 0. 0. 0.]\n",
      " [0. 0. 0. 0. 0. 0.]]\n",
      "\n",
      "\n",
      "vector [0 1 2 3 4 5]\n",
      "\n",
      "\n",
      "After assigning vector v to row 0 of matrix M:\n",
      "[[0. 1. 2. 3. 4. 5.]\n",
      " [0. 0. 0. 0. 0. 0.]\n",
      " [0. 0. 0. 0. 0. 0.]\n",
      " [0. 0. 0. 0. 0. 0.]\n",
      " [0. 0. 0. 0. 0. 0.]\n",
      " [0. 0. 0. 0. 0. 0.]]\n",
      "\n",
      "\n",
      "After assigning matrix fourx4 to the bottom corner of matrix M:\n",
      "[[ 0.  1.  2.  3.  4.  5.]\n",
      " [ 0.  0.  0.  0.  0.  0.]\n",
      " [ 0.  0.  0.  1.  2.  3.]\n",
      " [ 0.  0.  4.  5.  6.  7.]\n",
      " [ 0.  0.  8.  9. 10. 11.]\n",
      " [ 0.  0. 12. 13. 14. 15.]]\n"
     ]
    }
   ],
   "source": [
    "print('Setting up matrix:')\n",
    "print('Before assignment: all zeros:')\n",
    "M = np.zeros((6,6))\n",
    "print(M)\n",
    "print('\\n')\n",
    "\n",
    "# remember bracket comma notation M[row, column]\n",
    "# except with complex indexing and assignment, we're essentially replacing row and column with a slice\n",
    "# M[rowstart:rowend, columnstart:columnend]\n",
    "\n",
    "# Set every first element in each row to 1\n",
    "M[:,0] = 1\n",
    "print('After assignment of 1 to first column:')\n",
    "print(M)\n",
    "print('\\n')\n",
    "\n",
    "# Set all elements in rows 3 to 5 (Excluding 5) to be equal to the number 5\n",
    "M[3:5, :] = 5\n",
    "print('After assigning 5 to rows 3-5 not including 5:')\n",
    "print(M)\n",
    "print('\\n')\n",
    "\n",
    "# Set all elements in rows 3 to 5 (Excluding 5) to be equal to the number 2 excluding first and last columns\n",
    "# Set the second and third columns to a number == 2\n",
    "M[3:5, 1:5] = 2\n",
    "print('After assigning 2 to rows 3-5 not including 5 or first/last columns:')\n",
    "print(M)\n",
    "print('\\n')\n",
    "\n",
    "# reset the matrix back to 0\n",
    "M *= 0\n",
    "print('After reset:')\n",
    "print(M)\n",
    "print('\\n')\n",
    "\n",
    "# Creating a vector in numpy\n",
    "v = np.arange(6)\n",
    "print('vector', v)\n",
    "print('\\n')\n",
    "\n",
    "\n",
    "# Set the first row to that range of vector numbers we just created\n",
    "M[0, :] = v\n",
    "print('After assigning vector v to row 0 of matrix M:')\n",
    "print(M)\n",
    "print('\\n')\n",
    "\n",
    "# set the bottom corner of my matrix M to be the 4x4 matrix created in our exercise\n",
    "fourx4 = np.arange(0,16).reshape(4,4)\n",
    "\n",
    "M[2:, 2:] = fourx4\n",
    "print('After assigning matrix fourx4 to the bottom corner of matrix M:')\n",
    "print(M)\n",
    "\n",
    "#################\n",
    "# M[rows,columns]\n",
    "#################"
   ]
  },
  {
   "cell_type": "markdown",
   "metadata": {},
   "source": [
    "#### Elementwise Multiplication"
   ]
  },
  {
   "cell_type": "markdown",
   "metadata": {},
   "source": [
    "<p>As long as the shapes of NDArrays are 'compatible', they can be multiplied elementwise, broadcasted, used in inner products, and much much more. 'Compatible' in this context can mean compatible in the linear algebraic sense, i.e. for inner products and other matrix multiplication, or simply sharing a dimension in such a manner that broadcasting 'makes sense'. Here are some examples of this:</p>"
   ]
  },
  {
   "cell_type": "code",
   "execution_count": 101,
   "metadata": {},
   "outputs": [
    {
     "name": "stdout",
     "output_type": "stream",
     "text": [
      "[[ 0.  0.  0.  0.  0.  0.]\n",
      " [ 0.  0.  0.  0.  0.  0.]\n",
      " [ 0.  0.  0.  1.  2.  3.]\n",
      " [ 0.  0.  4.  5.  6.  7.]\n",
      " [ 0.  0.  8.  9. 10. 11.]\n",
      " [ 0.  0. 12. 13. 14. 15.]] [[0]\n",
      " [1]\n",
      " [2]\n",
      " [3]\n",
      " [4]\n",
      " [5]]\n",
      "[[ 0.  0.  0.  0.  0.  0.]\n",
      " [ 0.  0.  0.  0.  0.  0.]\n",
      " [ 0.  0.  0.  2.  4.  6.]\n",
      " [ 0.  0. 12. 15. 18. 21.]\n",
      " [ 0.  0. 32. 36. 40. 44.]\n",
      " [ 0.  0. 60. 65. 70. 75.]]\n",
      "[[ 0.  0.  0.  0.  0.  0.]\n",
      " [ 0.  0.  0.  0.  0.  0.]\n",
      " [ 0.  0.  0.  3.  8. 15.]\n",
      " [ 0.  0.  8. 15. 24. 35.]\n",
      " [ 0.  0. 16. 27. 40. 55.]\n",
      " [ 0.  0. 24. 39. 56. 75.]]\n"
     ]
    }
   ],
   "source": [
    "# Initialize a vector of range 6, then reset Matrix to zero and run vector multiplication on the matrix\n",
    "v61 = np.arange(6).reshape(6,1)\n",
    "v16 = np.arange(6)\n",
    "M[0, :] = 0\n",
    "print(M, v)\n",
    "\n",
    "print(M*v61)\n",
    "print(M*v16)\n",
    "\n",
    "# Reset the Matrix to 0\n"
   ]
  },
  {
   "cell_type": "markdown",
   "metadata": {},
   "source": [
    "#### np.where() <br>\n",
    "<p>If statement within NDArrays that allows you to run conditionals on the entire array</p>"
   ]
  },
  {
   "cell_type": "code",
   "execution_count": 109,
   "metadata": {},
   "outputs": [
    {
     "name": "stdout",
     "output_type": "stream",
     "text": [
      "[[ 10  20  30  40  50  60  70  80  90 100]\n",
      " [110 120 130 140 150 160 170 180 190 200]\n",
      " [210 220 230 240 250 260 270 280 290 300]\n",
      " [310 320 330 340 350 360 370 380 390 400]]\n",
      "\n",
      "\n",
      "Get the locations of numbers divisible by 20\n",
      "[[ 20  40  60  80 100]\n",
      " [120 140 160 180 200]\n",
      " [220 240 260 280 300]\n",
      " [320 340 360 380 400]]\n",
      "[[ 10   0  30   0  50   0  70   0  90   0]\n",
      " [110   0 130   0 150   0 170   0 190   0]\n",
      " [210   0 230   0 250   0 270   0 290   0]\n",
      " [310   0 330   0 350   0 370   0 390   0]]\n"
     ]
    }
   ],
   "source": [
    "new_array = np.array(range(10,401, 10)).reshape(4,10)\n",
    "print(new_array)\n",
    "print('\\n')\n",
    "print('Get the locations of numbers divisible by 20')\n",
    "np.where(new_array%20==0) # where is returning two vectors- one of row numbers and one of column numbers\n",
    "# Transform Data based on boolean mask == True\n",
    "\n",
    "x = new_array[np.where(new_array%20==0)].reshape(4,5) # subsetting\n",
    "print(x)\n",
    "\n",
    "new_array[np.where(new_array%20==0)] = 0 \n",
    "# using np.where() for complex assignment can be especially helpful for cleaning data\n",
    "print(new_array)"
   ]
  },
  {
   "cell_type": "markdown",
   "metadata": {},
   "source": [
    "#### Random Sampling <br>\n",
    "<p>NumPy provides machinery to work with random numbers - something often needed in a broad spectrum of data science applications.</p>"
   ]
  },
  {
   "cell_type": "code",
   "execution_count": 125,
   "metadata": {},
   "outputs": [
    {
     "name": "stdout",
     "output_type": "stream",
     "text": [
      "Here is a random number: 0.5970564797928954\n",
      "Here is a random number between 0 and 1 Million: 557356.9092324637\n",
      "Here are 5 random numbers between 0 and 10: [4.97601808 6.29671075 0.3505931  0.21602149 9.90581082]\n",
      "Here is a 3x3 matrix with numbers between 0 and 10: \n",
      " [[4.37170745 1.5247371  3.53751885]\n",
      " [4.93501616 2.34181788 1.76016558]\n",
      " [7.06337532 4.59465505 0.20544477]]\n",
      "Here is a random integer between 0 and 100: \n",
      " 62\n"
     ]
    }
   ],
   "source": [
    "# np.random.uniform()\n",
    "\n",
    "# A single call generates a single random number between 0 and 1\n",
    "\n",
    "print('Here is a random number: %s' % np.random.uniform())\n",
    "\n",
    "# You can also pass some parameters or bounds\n",
    "\n",
    "print('Here is a random number between 0 and 1 Million: %s' % np.random.uniform(0, 1e6))\n",
    "\n",
    "# You can also generate a bunch of random numbers all at once\n",
    "\n",
    "print('Here are 5 random numbers between 0 and 10: %s' % np.random.uniform(0, 10, 5))\n",
    "\n",
    "# Even matrices with shapes as a parameter\n",
    "\n",
    "print('Here is a 3x3 matrix with numbers between 0 and 10: \\n %s' % np.random.uniform(0, 10, (3, 3)))\n",
    "\n",
    "# integers: randint()\n",
    "print(f'Here is a random integer between 0 and 100: \\n {np.random.randint(0, 101)}')"
   ]
  },
  {
   "cell_type": "markdown",
   "metadata": {},
   "source": [
    "## Working With CSV's"
   ]
  },
  {
   "cell_type": "markdown",
   "metadata": {},
   "source": [
    "#### Imports"
   ]
  },
  {
   "cell_type": "code",
   "execution_count": 1,
   "metadata": {},
   "outputs": [],
   "source": [
    "import csv\n",
    "import numpy as np\n",
    "from datetime import datetime"
   ]
  },
  {
   "cell_type": "markdown",
   "metadata": {},
   "source": [
    "#### Reading a CSV"
   ]
  },
  {
   "cell_type": "code",
   "execution_count": 8,
   "metadata": {},
   "outputs": [
    {
     "name": "stdout",
     "output_type": "stream",
     "text": [
      "['23', '2B', \"Chase d'Arnaud\", '30', '2', '1', '1', '2', '1', '0', '0', '0', '0', '0', '0', '0', '0', '1.000', '1.000', '1.000', '2.000', '428', '1', '0', '0', '0', '0', '0']\n"
     ]
    }
   ],
   "source": [
    "# Creating Function to open and read CSV data\n",
    "# essentially we can open a file in the background of python, read that file, and then close it once its been read\n",
    "\n",
    "def open_csv(filename, delimiter=','):\n",
    "    # define an empty list in which to store our data\n",
    "    data = []\n",
    "    # built-in open within a with block\n",
    "    with open(filename, encoding='utf-8') as mData:\n",
    "        # use the csv module reader method to create a list\n",
    "        oData = csv.reader(mData, delimiter=delimiter)\n",
    "        \n",
    "        # loop over whats in the csv.reader and add that row by row to the data list\n",
    "        for row in oData:\n",
    "            data.append(row)\n",
    "    \n",
    "    return data\n",
    "\n",
    "csv_data = open_csv('../files/redsox_2017_hitting.txt')\n",
    "print(csv_data[-1])"
   ]
  },
  {
   "cell_type": "markdown",
   "metadata": {},
   "source": [
    "#### Loading a CSV's Data "
   ]
  },
  {
   "cell_type": "code",
   "execution_count": 16,
   "metadata": {},
   "outputs": [
    {
     "name": "stdout",
     "output_type": "stream",
     "text": [
      "168\n"
     ]
    }
   ],
   "source": [
    "FIELDS = ['Rk', 'Pos', 'Name', 'Age', 'G', 'PA', 'AB', 'R', 'H', '2B', '3B', 'HR', 'RBI', 'SB', 'CS', \n",
    "          'BB', 'SO', 'BA', 'OBP', 'SLG', 'OPS', 'OPS+', 'TB', 'GDP', 'HBP', 'SH', 'SF', 'IBB']\n",
    "\n",
    "# i = integer, f = float, |s25 = string with 25 characters\n",
    "DATATYPES = [('rk', 'i'), ('pos', '|S25'), ('name', '|S25'), ('age', 'i'), ('g', 'i'), ('pa', 'i'), ('ab', 'i'),\n",
    "                ('r', 'i'), ('h', 'i'), ('2b', 'i'), ('3b', 'i'), ('hr', 'i'), ('rbi', 'i'), ('sb', 'i'), ('cs', 'i'),\n",
    "                ('bb', 'i'), ('so', 'i'), ('ba', 'f'), ('obp', 'f'), ('slg', 'f'), ('ops', 'f'), ('opsp', 'i'),\n",
    "                ('tb', 'i'), ('gdp', 'i'), ('hbp', 'i'), ('sh', 'i'), ('sf', 'i'), ('ibb', 'i')]\n",
    "\n",
    "# instead of loading csv normally, let's load it into a numpy array to calculate results on\n",
    "sox2017 = np.genfromtxt('../files/redsox_2017_hitting.txt', delimiter=',', skip_header=1, usecols=np.arange(28), invalid_raise=False, names=FIELDS, dtype=DATATYPES)\n",
    "#print(sox2017)\n",
    "\n",
    "# access all the values in the names column - can kind of treat this like a python dictionary when it comes to the column names\n",
    "names = sox2017['Name']\n",
    "#print(names)\n",
    "\n",
    "# total home runs\n",
    "total_hr = sum(sox2017['HR'])\n",
    "print(total_hr)"
   ]
  },
  {
   "cell_type": "markdown",
   "metadata": {},
   "source": [
    "#### Summing the top 5 hitters for HR's"
   ]
  },
  {
   "cell_type": "code",
   "execution_count": 28,
   "metadata": {},
   "outputs": [
    {
     "data": {
      "text/plain": [
       "63.095238095238095"
      ]
     },
     "execution_count": 28,
     "metadata": {},
     "output_type": "execute_result"
    }
   ],
   "source": [
    "# find the top 5 hr hitters\n",
    "\n",
    "# Step 1: Get all HR data into a variable\n",
    "# Step 2: Get all Player Names\n",
    "# Step 3: Create new list for new_names (empty to start)\n",
    "# Step 4: Decode the player names into regular strings\n",
    "# Step 5: Grab all data and place inside of a zipped list\n",
    "# Step 6: Sort values based on HR data\n",
    "\n",
    "# Step 1\n",
    "hrs = sox2017['HR']\n",
    "\n",
    "\n",
    "# Step 2\n",
    "names = sox2017['Name']\n",
    "\n",
    "\n",
    "# Step 3\n",
    "newnames = [x.decode('utf-8') for x in names]\n",
    "\n",
    "# Step 4\n",
    "# combined into step 3 with list comprehension\n",
    "\n",
    "#print(newnames)\n",
    "\n",
    "# Step 5\n",
    "zipped_values = list(zip(newnames, hrs))\n",
    "\n",
    "\n",
    "# Step 6\n",
    "top5 = sorted(zipped_values, key= lambda x: x[1], reverse=True)[:5]\n",
    "top5\n",
    "\n",
    "hrs_from_top_5 = sum([x[1] for x in top5])\n",
    "hrs_from_top_5 # 106 hrs from top 5 hr hitters\n",
    "\n",
    "# conclusion?\n",
    "# 168 total HRs\n",
    "# 106 from top 5 hitters\n",
    "106/168*100\n",
    "# 63% of the red sox home runs in 2017 came from just 5 hitters"
   ]
  },
  {
   "cell_type": "markdown",
   "metadata": {
    "collapsed": true
   },
   "source": [
    "# Exercises To Complete.... <br>\n",
    "<p>Given in separate file after completion of this file</p>"
   ]
  }
 ],
 "metadata": {
  "kernelspec": {
   "display_name": "Python 3",
   "language": "python",
   "name": "python3"
  },
  "language_info": {
   "codemirror_mode": {
    "name": "ipython",
    "version": 3
   },
   "file_extension": ".py",
   "mimetype": "text/x-python",
   "name": "python",
   "nbconvert_exporter": "python",
   "pygments_lexer": "ipython3",
   "version": "3.8.8"
  }
 },
 "nbformat": 4,
 "nbformat_minor": 2
}
